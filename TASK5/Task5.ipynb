{
  "cells": [
    {
      "cell_type": "markdown",
      "source": [
        "# Task V: Quantum Graph Neural Network (QGNN)\n",
        "In task II you already worked with a classical GNN.\n",
        "- Describe a possibility for a QGNN circuit, which takes advantage of the graph representation of the data\n",
        "- Implement and draw the circuit.\n",
        "---"
      ],
      "metadata": {
        "id": "pCP8Y2cqGFsl"
      }
    },
    {
      "cell_type": "markdown",
      "source": [
        "### Description of a QGNN Circuit Utilizing Graph Representation\n",
        "\n",
        "This QGNN design leverages the graph structure by encoding node features and edge relationships into quantum states, enabling quantum algorithms to extract complex patterns.\n",
        "\n",
        "**1. Node Feature Encoding:** The initial step involves encoding the classical features of each graph node into quantum states. This is achieved through angle encoding, where each feature is mapped to a rotation angle applied to a qubit. For a graph with N nodes, each node is represented by one qubit, and the node’s features determine the rotation applied to that qubit. Specifically, the code applies a  $$R_y$$ rotation to each qubit based on the node feature values. This ensures each node’s information is embedded in the quantum state.\n",
        "\n",
        "**2. Graph Structure Encoding:** Edges, representing relationships between nodes, are encoded using entangling gates such as the CNOT (Controlled-NOT) gate. For each edge present in the graph (represented by the adjacency matrix), a CNOT gate is applied between the corresponding qubits. The CNOT gate creates entanglement between the qubits, facilitating information exchange between connected nodes, akin to message passing in classical GNNs.\n",
        "\n",
        "**3. Parameterized Quantum Layers:** After encoding the graph, a parameterized quantum circuit (PQC) is applied. Here, we use a simple $$R_z$$ rotation to each qubit to allow the model to learn during training.\n",
        "\n",
        "**4. Measurement:** Finally, a measurement is performed on each qubit to extract the quantum information. The results are obtained as a classical bitstring, which can then be processed to perform downstream tasks.\n",
        "\n",
        "### Implementation\n",
        "\n",
        "The code implements the QGNN circuit using Qiskit, a leading quantum computing framework.\n",
        "\n",
        "*   **Graph and Node Feature Definition:** The adjacency matrix `adj_matrix` represents the connections between nodes, and `node_features` stores the feature values for each node.\n",
        "*   **Circuit Construction:** The `QuantumCircuit` object is initialized with the appropriate number of qubits, and the steps outlined above are applied to create the QGNN circuit. The code then visualizes the quantum circuit using `qc.draw(output='text')`. This representation gives an overview of the operations and qubit interactions occurring within the circuit.\n",
        "*   **Simulation:** The constructed circuit is simulated using Qiskit’s `Aer` simulator. The circuit is executed, and the measurement results are collected. Each measurement outcome is a bitstring, representing the final state of the qubits.\n",
        "*   **Visualization of Measurement Results:** A bar plot of the measurement outcomes and their counts is generated using Matplotlib and Seaborn to summarize the simulation results.\n",
        "\n"
      ],
      "metadata": {
        "id": "_Z64ViJXeBKO"
      }
    },
    {
      "cell_type": "code",
      "source": [
        "!pip install qiskit\n",
        "!pip install qiskit-aer\n",
        "!pip install pylatexenc\n"
      ],
      "metadata": {
        "colab": {
          "base_uri": "https://localhost:8080/"
        },
        "collapsed": true,
        "id": "PkOZ3ND6Ww6z",
        "outputId": "7f296da2-d4d9-4c0f-aeef-747e7bba5141"
      },
      "execution_count": null,
      "outputs": [
        {
          "output_type": "stream",
          "name": "stdout",
          "text": [
            "Requirement already satisfied: qiskit in /usr/local/lib/python3.11/dist-packages (1.4.2)\n",
            "Requirement already satisfied: rustworkx>=0.15.0 in /usr/local/lib/python3.11/dist-packages (from qiskit) (0.16.0)\n",
            "Requirement already satisfied: numpy<3,>=1.17 in /usr/local/lib/python3.11/dist-packages (from qiskit) (2.0.2)\n",
            "Requirement already satisfied: scipy>=1.5 in /usr/local/lib/python3.11/dist-packages (from qiskit) (1.14.1)\n",
            "Requirement already satisfied: sympy>=1.3 in /usr/local/lib/python3.11/dist-packages (from qiskit) (1.13.1)\n",
            "Requirement already satisfied: dill>=0.3 in /usr/local/lib/python3.11/dist-packages (from qiskit) (0.3.9)\n",
            "Requirement already satisfied: python-dateutil>=2.8.0 in /usr/local/lib/python3.11/dist-packages (from qiskit) (2.8.2)\n",
            "Requirement already satisfied: stevedore>=3.0.0 in /usr/local/lib/python3.11/dist-packages (from qiskit) (5.4.1)\n",
            "Requirement already satisfied: typing-extensions in /usr/local/lib/python3.11/dist-packages (from qiskit) (4.12.2)\n",
            "Requirement already satisfied: symengine<0.14,>=0.11 in /usr/local/lib/python3.11/dist-packages (from qiskit) (0.13.0)\n",
            "Requirement already satisfied: six>=1.5 in /usr/local/lib/python3.11/dist-packages (from python-dateutil>=2.8.0->qiskit) (1.17.0)\n",
            "Requirement already satisfied: pbr>=2.0.0 in /usr/local/lib/python3.11/dist-packages (from stevedore>=3.0.0->qiskit) (6.1.1)\n",
            "Requirement already satisfied: mpmath<1.4,>=1.1.0 in /usr/local/lib/python3.11/dist-packages (from sympy>=1.3->qiskit) (1.3.0)\n",
            "Requirement already satisfied: setuptools in /usr/local/lib/python3.11/dist-packages (from pbr>=2.0.0->stevedore>=3.0.0->qiskit) (75.1.0)\n",
            "Requirement already satisfied: qiskit-aer in /usr/local/lib/python3.11/dist-packages (0.17.0)\n",
            "Requirement already satisfied: qiskit>=1.1.0 in /usr/local/lib/python3.11/dist-packages (from qiskit-aer) (1.4.2)\n",
            "Requirement already satisfied: numpy>=1.16.3 in /usr/local/lib/python3.11/dist-packages (from qiskit-aer) (2.0.2)\n",
            "Requirement already satisfied: scipy>=1.0 in /usr/local/lib/python3.11/dist-packages (from qiskit-aer) (1.14.1)\n",
            "Requirement already satisfied: psutil>=5 in /usr/local/lib/python3.11/dist-packages (from qiskit-aer) (5.9.5)\n",
            "Requirement already satisfied: rustworkx>=0.15.0 in /usr/local/lib/python3.11/dist-packages (from qiskit>=1.1.0->qiskit-aer) (0.16.0)\n",
            "Requirement already satisfied: sympy>=1.3 in /usr/local/lib/python3.11/dist-packages (from qiskit>=1.1.0->qiskit-aer) (1.13.1)\n",
            "Requirement already satisfied: dill>=0.3 in /usr/local/lib/python3.11/dist-packages (from qiskit>=1.1.0->qiskit-aer) (0.3.9)\n",
            "Requirement already satisfied: python-dateutil>=2.8.0 in /usr/local/lib/python3.11/dist-packages (from qiskit>=1.1.0->qiskit-aer) (2.8.2)\n",
            "Requirement already satisfied: stevedore>=3.0.0 in /usr/local/lib/python3.11/dist-packages (from qiskit>=1.1.0->qiskit-aer) (5.4.1)\n",
            "Requirement already satisfied: typing-extensions in /usr/local/lib/python3.11/dist-packages (from qiskit>=1.1.0->qiskit-aer) (4.12.2)\n",
            "Requirement already satisfied: symengine<0.14,>=0.11 in /usr/local/lib/python3.11/dist-packages (from qiskit>=1.1.0->qiskit-aer) (0.13.0)\n",
            "Requirement already satisfied: six>=1.5 in /usr/local/lib/python3.11/dist-packages (from python-dateutil>=2.8.0->qiskit>=1.1.0->qiskit-aer) (1.17.0)\n",
            "Requirement already satisfied: pbr>=2.0.0 in /usr/local/lib/python3.11/dist-packages (from stevedore>=3.0.0->qiskit>=1.1.0->qiskit-aer) (6.1.1)\n",
            "Requirement already satisfied: mpmath<1.4,>=1.1.0 in /usr/local/lib/python3.11/dist-packages (from sympy>=1.3->qiskit>=1.1.0->qiskit-aer) (1.3.0)\n",
            "Requirement already satisfied: setuptools in /usr/local/lib/python3.11/dist-packages (from pbr>=2.0.0->stevedore>=3.0.0->qiskit>=1.1.0->qiskit-aer) (75.1.0)\n",
            "Requirement already satisfied: pylatexenc in /usr/local/lib/python3.11/dist-packages (2.10)\n"
          ]
        }
      ]
    },
    {
      "cell_type": "code",
      "source": [
        "from qiskit import QuantumCircuit\n",
        "from qiskit_aer import Aer\n",
        "import numpy as np\n",
        "import matplotlib.pyplot as plt\n",
        "import seaborn as sns\n",
        "\n",
        "# Define a simple graph with 3 nodes and 2 edges\n",
        "adj_matrix = np.array([\n",
        "    [0, 1, 0],  # Node 1 connected to Node 2\n",
        "    [1, 0, 1],  # Node 2 connected to Node 1 and Node 3\n",
        "    [0, 1, 0]   # Node 3 connected to Node 2\n",
        "])\n",
        "\n",
        "# Node features\n",
        "node_features = [0.5, -0.3, 0.8]\n",
        "\n",
        "# Initialize a quantum circuit with 3 qubits (one for each node)\n",
        "num_nodes = len(node_features)\n",
        "qc = QuantumCircuit(num_nodes)\n",
        "\n",
        "# Step 1: Encode node features into quantum states using rotation gates\n",
        "for i in range(num_nodes):\n",
        "    qc.ry(node_features[i] * np.pi, i)\n",
        "\n",
        "# Step 2: Encode graph structure using entangling gates based on adjacency matrix\n",
        "for i in range(num_nodes):\n",
        "    for j in range(i + 1, num_nodes):\n",
        "        if adj_matrix[i][j] == 1:\n",
        "            qc.cx(i, j)\n",
        "\n",
        "# Step 3: Apply parameterized quantum circuit layers (simulating message passing)\n",
        "for i in range(num_nodes):\n",
        "    qc.rz(np.pi / 4, i)\n",
        "\n",
        "# Step 4: Measurement\n",
        "qc.measure_all()\n"
      ],
      "metadata": {
        "id": "ibdcrvDZX0jV"
      },
      "execution_count": null,
      "outputs": []
    },
    {
      "cell_type": "markdown",
      "source": [
        "## Circuit Diagram"
      ],
      "metadata": {
        "id": "yLMZr_wEfG01"
      }
    },
    {
      "cell_type": "code",
      "source": [
        "\n",
        "# Visualize the circuit\n",
        "print(\"Quantum Graph Neural Network Circuit:\")\n",
        "print(qc.draw(output='text'))\n",
        "\n",
        "\n"
      ],
      "metadata": {
        "colab": {
          "base_uri": "https://localhost:8080/"
        },
        "id": "CAtQNQnzecHc",
        "outputId": "827aa36a-9359-48fc-b5bc-5f02e1f3b70d"
      },
      "execution_count": null,
      "outputs": [
        {
          "output_type": "stream",
          "name": "stdout",
          "text": [
            "Quantum Graph Neural Network Circuit:\n",
            "         ┌─────────┐       ┌─────────┐            ░ ┌─┐      \n",
            "   q_0: ─┤ Ry(π/2) ├────■──┤ Rz(π/4) ├────────────░─┤M├──────\n",
            "        ┌┴─────────┴─┐┌─┴─┐└─────────┘┌─────────┐ ░ └╥┘┌─┐   \n",
            "   q_1: ┤ Ry(-3π/10) ├┤ X ├─────■─────┤ Rz(π/4) ├─░──╫─┤M├───\n",
            "        └┬──────────┬┘└───┘   ┌─┴─┐   ├─────────┤ ░  ║ └╥┘┌─┐\n",
            "   q_2: ─┤ Ry(4π/5) ├─────────┤ X ├───┤ Rz(π/4) ├─░──╫──╫─┤M├\n",
            "         └──────────┘         └───┘   └─────────┘ ░  ║  ║ └╥┘\n",
            "meas: 3/═════════════════════════════════════════════╩══╩══╩═\n",
            "                                                     0  1  2 \n"
          ]
        }
      ]
    },
    {
      "cell_type": "markdown",
      "source": [
        "\n",
        "The attached image shows the output of our quantum graph neural network circuit, which implements the angle encoding and uses Ry and Rz rotation gates to perform the desired operations to the 3 qubits involved.\n",
        "\n"
      ],
      "metadata": {
        "id": "_icjv137eTm4"
      }
    },
    {
      "cell_type": "code",
      "source": [
        "# Simulate the circuit and get measurement results\n",
        "backend = Aer.get_backend('qasm_simulator')\n",
        "job = backend.run(qc, shots=1024)\n",
        "result = job.result()\n",
        "counts = result.get_counts()\n",
        "\n",
        "print(\"\\nMeasurement Results:\")\n",
        "print(counts)\n",
        "\n",
        "# Convert counts to a format suitable for plotting\n",
        "labels = list(counts.keys())\n",
        "values = list(counts.values())\n"
      ],
      "metadata": {
        "colab": {
          "base_uri": "https://localhost:8080/"
        },
        "id": "nZxJCxn4eeTV",
        "outputId": "437b85e9-4cb9-438d-a5cb-29a4924fbc9b"
      },
      "execution_count": null,
      "outputs": [
        {
          "output_type": "stream",
          "name": "stdout",
          "text": [
            "\n",
            "Measurement Results:\n",
            "{'110': 14, '000': 43, '010': 113, '101': 100, '001': 15, '111': 33, '011': 343, '100': 363}\n"
          ]
        }
      ]
    },
    {
      "cell_type": "code",
      "source": [
        "# Set up the figure and axis\n",
        "plt.figure(figsize=(8, 5))\n",
        "sns.barplot(x=labels, y=values)\n",
        "\n",
        "# Add title and labels\n",
        "plt.title('Measurement Results of QGNN Circuit')\n",
        "plt.xlabel('Measurement Outcomes')\n",
        "plt.ylabel('Counts')\n",
        "plt.xticks(rotation=45)\n",
        "plt.tight_layout()\n",
        "\n",
        "# Show the plot\n",
        "plt.show()\n"
      ],
      "metadata": {
        "colab": {
          "base_uri": "https://localhost:8080/",
          "height": 506
        },
        "id": "ItelrPqkYBXS",
        "outputId": "07bab359-ca8a-43c5-9789-6685a656663f"
      },
      "execution_count": null,
      "outputs": [
        {
          "output_type": "display_data",
          "data": {
            "text/plain": [
              "<Figure size 800x500 with 1 Axes>"
            ],
            "image/png": "[encoded data removed]"
          },
          "metadata": {}
        }
      ]
    },
    {
      "cell_type": "markdown",
      "source": [
        "# Conclusion\n",
        "\n",
        "This task demonstrates the potential of combining quantum computing with graph neural networks. The QGNN circuit design effectively incorporates node features and graph structure into a quantum framework, enabling the extraction of complex relationships between nodes. By leveraging the principles of quantum mechanics, this approach opens doors to enhanced machine-learning tasks on graph-structured data.\n"
      ],
      "metadata": {
        "id": "DYvCNu_Degz_"
      }
    },
    {
      "cell_type": "code",
      "source": [],
      "metadata": {
        "id": "oklarzhzdiST"
      },
      "execution_count": null,
      "outputs": []
    }
  ],
  "metadata": {
    "colab": {
      "provenance": []
    },
    "kernelspec": {
      "display_name": "Python 3",
      "name": "python3"
    },
    "language_info": {
      "name": "python"
    }
  },
  "nbformat": 4,
  "nbformat_minor": 0
}